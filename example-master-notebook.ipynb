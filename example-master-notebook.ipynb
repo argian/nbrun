{
 "cells": [
  {
   "cell_type": "markdown",
   "metadata": {},
   "source": [
    "# Master Notebook\n",
    "\n",
    "<p class=lead>This notebook executes a [template notebook](example-template-notebook.ipynb) passing different arguments.\n",
    "<p>\n",
    "\n",
    "## Boilerplate\n",
    "\n",
    "The module `nbrun.py` needs to be importable (i.e. placed in the current folder or in the python path):"
   ]
  },
  {
   "cell_type": "code",
   "execution_count": null,
   "metadata": {},
   "outputs": [],
   "source": [
    "from nbrun import run_notebook"
   ]
  },
  {
   "cell_type": "markdown",
   "metadata": {
    "collapsed": true
   },
   "source": [
    "## Execute notebooks"
   ]
  },
  {
   "cell_type": "code",
   "execution_count": null,
   "metadata": {
    "collapsed": true
   },
   "outputs": [],
   "source": [
    "nb_name = 'example-template-notebook.ipynb'"
   ]
  },
  {
   "cell_type": "code",
   "execution_count": null,
   "metadata": {},
   "outputs": [],
   "source": [
    "for data_id in (0, 1, 2):\n",
    "    for analysis_type in ('a', 'b', 'c'):\n",
    "        nb_kwargs = {'data_id': data_id, 'analysis_type': analysis_type}\n",
    "        run_notebook(nb_name, suffix='-out_%d_%s' % (data_id, analysis_type), \n",
    "                     nb_kwargs=nb_kwargs)"
   ]
  },
  {
   "cell_type": "markdown",
   "metadata": {},
   "source": [
    "# Avoiding Broken Links\n",
    "\n",
    "Running `run_notebook()` displays links to \n",
    "template and output notebooks. These links can be broken\n",
    "under the conditions explained below.\n",
    "\n",
    "First, the template and output notebooks need to be\n",
    "accessible to the jupyter notebook, so they need to be in a subfolder of the\n",
    "jupyter notebook startup foder.\n",
    "\n",
    "Second, when calling `notebook_run` from a master notebook, the python \n",
    "working directory must be the folder of the master notebook. \n",
    "When starting a notebook the working dir is by default the notebook folder.\n",
    "So, if the user doesn't change dir in the master notebook (using `cd` or `os.chdir`) \n",
    "the links are correctly generated.\n",
    "If the user needs to change dir, he/she should change it back to the \n",
    "original folder before calling `run_notebook`."
   ]
  },
  {
   "cell_type": "code",
   "execution_count": null,
   "metadata": {
    "collapsed": true
   },
   "outputs": [],
   "source": []
  }
 ],
 "metadata": {
  "kernelspec": {
   "display_name": "Python [default]",
   "language": "python",
   "name": "python3"
  },
  "language_info": {
   "codemirror_mode": {
    "name": "ipython",
    "version": 3
   },
   "file_extension": ".py",
   "mimetype": "text/x-python",
   "name": "python",
   "nbconvert_exporter": "python",
   "pygments_lexer": "ipython3",
   "version": "3.5.2"
  },
  "toc": {
   "colors": {
    "hover_highlight": "#DAA520",
    "running_highlight": "#FF0000",
    "selected_highlight": "#FFD700"
   },
   "moveMenuLeft": true,
   "nav_menu": {
    "height": "84px",
    "width": "252px"
   },
   "navigate_menu": true,
   "number_sections": false,
   "sideBar": true,
   "threshold": 4,
   "toc_cell": false,
   "toc_section_display": "block",
   "toc_window_display": false,
   "widenNotebook": false
  }
 },
 "nbformat": 4,
 "nbformat_minor": 1
}
